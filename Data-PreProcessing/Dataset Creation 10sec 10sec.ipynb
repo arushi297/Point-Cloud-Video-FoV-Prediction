{
 "cells": [
  {
   "cell_type": "code",
   "execution_count": 1,
   "metadata": {},
   "outputs": [],
   "source": [
    "import glob\n",
    "import numpy as np\n",
    "import pandas as pd\n",
    "import os\n",
    "import torch"
   ]
  },
  {
   "cell_type": "code",
   "execution_count": null,
   "metadata": {},
   "outputs": [],
   "source": [
    "!unzip Dataset/UserMovement-20231122T141046Z-001.zip"
   ]
  },
  {
   "cell_type": "code",
   "execution_count": 2,
   "metadata": {},
   "outputs": [],
   "source": [
    "path = \"/scratch/aa10350/FoV/User Movement\""
   ]
  },
  {
   "cell_type": "code",
   "execution_count": 3,
   "metadata": {},
   "outputs": [],
   "source": [
    "test_files = glob.glob(path + '/ChenYongting*.txt')\n",
    "val_files = glob.glob(path + '/fupingyu*.txt') + glob.glob(path + '/GuoYushan*.txt')\n",
    "train_files = glob.glob(path + '/*.txt')\n",
    "other_files = glob.glob(path + '/intersection*.txt')+ glob.glob(path + '/original*.txt')+glob.glob(path + '/output*.txt')\n",
    "train_files = list(filter(lambda i: i not in test_files and (i not in val_files and i not in other_files), train_files))"
   ]
  },
  {
   "cell_type": "code",
   "execution_count": 4,
   "metadata": {},
   "outputs": [],
   "source": [
    "def get_sine_cosine(roll, pitch, yaw):\n",
    "    \n",
    "    r_sine = np.sin(roll*np.pi/180)\n",
    "    r_cosine = np.cos(roll*np.pi/180)\n",
    "    p_sine = np.sin(pitch*np.pi/180)\n",
    "    p_cosine = np.cos(pitch*np.pi/180)\n",
    "    y_sine = np.sin(yaw*np.pi/180)\n",
    "    y_cosine = np.cos(yaw*np.pi/180)\n",
    "\n",
    "\n",
    "    return pd.Series({'r_sine': r_sine, 'r_cosine': r_cosine, 'p_sine': p_sine, 'p_cosine': p_cosine, 'y_sine': y_sine, 'y_cosine': y_cosine})"
   ]
  },
  {
   "cell_type": "code",
   "execution_count": 5,
   "metadata": {},
   "outputs": [],
   "source": [
    "# Creates dataframe for the file and resample\n",
    "def createDataframe(f):\n",
    "    df = pd.read_csv(f,sep=' ',header=None)\n",
    "    df.columns = map(lambda x: x.replace(',',''), df.iloc[0])\n",
    "    df = df.iloc[1:].astype(float)\n",
    "    df = df.iloc[:,0:8]\n",
    "    sine_cosine_df = df.apply(lambda row: get_sine_cosine(row['HeadRX'], row['HeadRY'], row['HeadRZ']), axis=1)\n",
    "    df = pd.concat([df.iloc[:,0:5], sine_cosine_df], axis=1)\n",
    "    df.index = pd.to_timedelta(df.index,unit='s')\n",
    "    df = df.resample('200ms').interpolate('akima') # upsample by 5 --> 5 * 144 Hz\n",
    "    df = df.resample('2400ms').first() # downsample by 12 --> (5 * 144) / 12 = 60 Hz\n",
    "    df = df.reset_index(drop = True) # drop the timestamp index added\n",
    "    regex_pattern = '.*Timer|.*Frame'\n",
    "    filtered_columns = df.filter(regex=regex_pattern, axis=1)\n",
    "    df = df.drop(columns=filtered_columns.columns)\n",
    "    return df"
   ]
  },
  {
   "cell_type": "code",
   "execution_count": 6,
   "metadata": {},
   "outputs": [],
   "source": [
    "# Creates input and output numpy array for a given dataframe, history_size, target_size and\n",
    "# step size (in sec)\n",
    "def multivariate_data(df, history_size = 10, target_size = 10, step = 15, window_size=60):\n",
    "    data = []\n",
    "    labels = []\n",
    "    start_index = history_size * window_size\n",
    "    end_index = len(df) - target_size * window_size\n",
    "\n",
    "    for i in range(start_index, end_index, step):\n",
    "        indices = range(i-history_size * window_size, i)\n",
    "        data.append(df.iloc[indices])\n",
    "        labels.append(df.iloc[i:i+target_size * window_size])\n",
    "\n",
    "    return np.array(data), np.array(labels)"
   ]
  },
  {
   "cell_type": "code",
   "execution_count": 7,
   "metadata": {},
   "outputs": [],
   "source": [
    "def normalizeData(files, history_size = 10, target_size = 10, step = 15, window_size=60):\n",
    "    concatenatedDf = pd.DataFrame()\n",
    "    for f in files:\n",
    "        print(f)\n",
    "        df = createDataframe(f)\n",
    "        if len(df) < (history_size + target_size) * (window_size):\n",
    "            continue\n",
    "        concatenatedDf = pd.concat([concatenatedDf, df], axis=0)\n",
    "    HeadX_mean = concatenatedDf['HeadX'].mean()\n",
    "    HeadY_mean = concatenatedDf['HeadY'].mean()\n",
    "    HeadZ_mean = concatenatedDf['HeadZ'].mean()\n",
    "    HeadX_std = concatenatedDf['HeadX'].std()\n",
    "    HeadY_std = concatenatedDf['HeadY'].std()\n",
    "    HeadZ_std = concatenatedDf['HeadZ'].std()\n",
    "    return HeadX_mean, HeadY_mean, HeadZ_mean, HeadX_std, HeadY_std, HeadZ_std"
   ]
  },
  {
   "cell_type": "code",
   "execution_count": 8,
   "metadata": {},
   "outputs": [
    {
     "name": "stdout",
     "output_type": "stream",
     "text": [
      "/scratch/aa10350/FoV/User Movement/sulehan_sweep.txt\n",
      "/scratch/aa10350/FoV/User Movement/TuYuzhao_Pulling_trolley.txt\n",
      "/scratch/aa10350/FoV/User Movement/Guozhaonian_Pulling_trolley.txt\n",
      "/scratch/aa10350/FoV/User Movement/yuchen_chatting.txt\n",
      "/scratch/aa10350/FoV/User Movement/RenHongyu_cleaning_whiteboard.txt\n",
      "/scratch/aa10350/FoV/User Movement/LHJ_sweep.txt\n",
      "/scratch/aa10350/FoV/User Movement/HKY_news_interviewing.txt\n",
      "/scratch/aa10350/FoV/User Movement/FengXuanqi_Pulling_trolley.txt\n",
      "/scratch/aa10350/FoV/User Movement/Guozhaonian_News_interviewing.txt\n",
      "/scratch/aa10350/FoV/User Movement/liuxuya_cleaning_whiteboard.txt\n",
      "/scratch/aa10350/FoV/User Movement/liuxuya_News_interviewing.txt\n",
      "/scratch/aa10350/FoV/User Movement/huangrenyi_chatting.txt\n",
      "/scratch/aa10350/FoV/User Movement/WangYan_Pulling_trolley.txt\n",
      "/scratch/aa10350/FoV/User Movement/TuYuzhao_sweep.txt\n",
      "/scratch/aa10350/FoV/User Movement/liuxuya_chatting.txt\n",
      "/scratch/aa10350/FoV/User Movement/Sunqiran_Pulling_trolley.txt\n",
      "/scratch/aa10350/FoV/User Movement/HKY_presenting.txt\n",
      "/scratch/aa10350/FoV/User Movement/sulehan_presenting.txt\n",
      "/scratch/aa10350/FoV/User Movement/Sunqiran_sweep.txt\n",
      "/scratch/aa10350/FoV/User Movement/LHJ_Pulling_trolley.txt\n",
      "/scratch/aa10350/FoV/User Movement/LiaoJunjian_cleaning_whiteborad.txt\n",
      "/scratch/aa10350/FoV/User Movement/sulehan_cleaning_whiteboard.txt\n",
      "/scratch/aa10350/FoV/User Movement/yuchen_sweep.txt\n",
      "/scratch/aa10350/FoV/User Movement/FengXuanqi_sweep.txt\n",
      "/scratch/aa10350/FoV/User Movement/WangYan_sweep.txt\n",
      "/scratch/aa10350/FoV/User Movement/TuYuzhao_chatting.txt\n",
      "/scratch/aa10350/FoV/User Movement/sulehan_chatting.txt\n",
      "/scratch/aa10350/FoV/User Movement/LHJ_cleaning_whiteboard.txt\n",
      "/scratch/aa10350/FoV/User Movement/huangrenyi_sweep.txt\n",
      "/scratch/aa10350/FoV/User Movement/RenHongyu_news_interviewing.txt\n",
      "/scratch/aa10350/FoV/User Movement/yuchen_presenting.txt\n",
      "/scratch/aa10350/FoV/User Movement/LHJ_chatting.txt\n",
      "/scratch/aa10350/FoV/User Movement/HKY_chatting.txt\n",
      "/scratch/aa10350/FoV/User Movement/WangYan_chatting.txt\n",
      "/scratch/aa10350/FoV/User Movement/sulehan_News_interviewing.txt\n",
      "/scratch/aa10350/FoV/User Movement/RenZhichen_cleaning_whiteboard.txt\n",
      "/scratch/aa10350/FoV/User Movement/LiaoJunjian_playing_guitar.txt\n",
      "/scratch/aa10350/FoV/User Movement/RenHongyu_playing_guitar.txt\n",
      "/scratch/aa10350/FoV/User Movement/huangrenyi_Pulling_trolley.txt\n",
      "/scratch/aa10350/FoV/User Movement/Guozhaonian_cleaning_whiteboard.txt\n",
      "/scratch/aa10350/FoV/User Movement/Sunqiran_cleaning_whiteboard.txt\n",
      "/scratch/aa10350/FoV/User Movement/sulehan_Pulling_trolley.txt\n",
      "/scratch/aa10350/FoV/User Movement/Guozhaonian_chatting.txt\n",
      "/scratch/aa10350/FoV/User Movement/RenZhichen_News_interviewing.txt\n",
      "/scratch/aa10350/FoV/User Movement/LiaoJunjian_chatting.txt\n",
      "/scratch/aa10350/FoV/User Movement/liuxuya_Pulling_trolley.txt\n",
      "/scratch/aa10350/FoV/User Movement/RenZhichen_chatting.txt\n",
      "/scratch/aa10350/FoV/User Movement/yuchen_Pulling_trolley.txt\n",
      "/scratch/aa10350/FoV/User Movement/yuchen_cleaning_whiteboard.txt\n",
      "/scratch/aa10350/FoV/User Movement/WangYan_presenting.txt\n",
      "/scratch/aa10350/FoV/User Movement/LiaoJunjian_Pulling_trolley.txt\n",
      "/scratch/aa10350/FoV/User Movement/Sunqiran_presenting.txt\n",
      "/scratch/aa10350/FoV/User Movement/LiaoJunjian_sweep.txt\n",
      "/scratch/aa10350/FoV/User Movement/huangrenyi_News_interviewing.txt\n",
      "/scratch/aa10350/FoV/User Movement/liuxuya_sweep.txt\n",
      "/scratch/aa10350/FoV/User Movement/RenHongyu_Pulling_trolley.txt\n",
      "/scratch/aa10350/FoV/User Movement/huangrenyi_cleaning_whiteboard.txt\n",
      "/scratch/aa10350/FoV/User Movement/RenZhichen_presenting.txt\n",
      "/scratch/aa10350/FoV/User Movement/liuxuya_presenting.txt\n",
      "/scratch/aa10350/FoV/User Movement/huangrenyi_presenting.txt\n",
      "/scratch/aa10350/FoV/User Movement/LiaoJunjian_news_interviewing.txt\n",
      "/scratch/aa10350/FoV/User Movement/RenHongyu_chatting.txt\n",
      "/scratch/aa10350/FoV/User Movement/Sunqiran_News_interviewing.txt\n",
      "/scratch/aa10350/FoV/User Movement/HKY_cleaning_whiteboard.txt\n",
      "/scratch/aa10350/FoV/User Movement/WangYan_cleaning_whiteboard.txt\n",
      "/scratch/aa10350/FoV/User Movement/FengXuanqi_chatting.txt\n",
      "/scratch/aa10350/FoV/User Movement/RenZhichen_sweep.txt\n",
      "/scratch/aa10350/FoV/User Movement/yuchen_News_interviewing.txt\n",
      "/scratch/aa10350/FoV/User Movement/RenZhichen_Pulling_trolley.txt\n",
      "/scratch/aa10350/FoV/User Movement/Guozhaonian_presenting.txt\n",
      "/scratch/aa10350/FoV/User Movement/HKY_Pulling_trolley.txt\n",
      "/scratch/aa10350/FoV/User Movement/Renhongyu_sweep.txt\n",
      "/scratch/aa10350/FoV/User Movement/WangYan_News_interviewing.txt\n",
      "/scratch/aa10350/FoV/User Movement/Guozhaonian_sweep.txt\n",
      "/scratch/aa10350/FoV/User Movement/Sunqiran_chatting.txt\n",
      "/scratch/aa10350/FoV/User Movement/HKY_sweep.txt\n"
     ]
    }
   ],
   "source": [
    "HeadX_mean, HeadY_mean, HeadZ_mean, HeadX_std, HeadY_std, HeadZ_std = normalizeData(train_files, history_size = 10, target_size = 10, step = 15, window_size=60)"
   ]
  },
  {
   "cell_type": "code",
   "execution_count": 9,
   "metadata": {},
   "outputs": [],
   "source": [
    "# Creates sequences for all the files\n",
    "def createSequence(files, history_size = 10, target_size = 10, step = 15, window_size=60):\n",
    "    x_list = []\n",
    "    y_list = []\n",
    "\n",
    "    for f in files:\n",
    "        print(f)\n",
    "        df = createDataframe(f)\n",
    "        len(df)\n",
    "        if len(df) < (history_size + target_size) * (window_size):\n",
    "            continue\n",
    "        df['HeadX'] = (df['HeadX'] - HeadX_mean) / HeadX_std\n",
    "        df['HeadY'] = (df['HeadY'] - HeadY_mean) / HeadY_std\n",
    "        df['HeadZ'] = (df['HeadZ'] - HeadZ_mean) / HeadZ_std\n",
    "\n",
    "        x_data, y_data = multivariate_data(df)\n",
    "        x_list.append(x_data)\n",
    "        y_list.append(y_data)\n",
    "        \n",
    "    x = np.concatenate(x_list, axis=0)\n",
    "    y = np.concatenate(y_list, axis=0)\n",
    "    return x, y"
   ]
  },
  {
   "cell_type": "code",
   "execution_count": 10,
   "metadata": {},
   "outputs": [
    {
     "name": "stdout",
     "output_type": "stream",
     "text": [
      "/scratch/aa10350/FoV/User Movement/sulehan_sweep.txt\n",
      "/scratch/aa10350/FoV/User Movement/TuYuzhao_Pulling_trolley.txt\n",
      "/scratch/aa10350/FoV/User Movement/Guozhaonian_Pulling_trolley.txt\n",
      "/scratch/aa10350/FoV/User Movement/yuchen_chatting.txt\n",
      "/scratch/aa10350/FoV/User Movement/RenHongyu_cleaning_whiteboard.txt\n",
      "/scratch/aa10350/FoV/User Movement/LHJ_sweep.txt\n",
      "/scratch/aa10350/FoV/User Movement/HKY_news_interviewing.txt\n",
      "/scratch/aa10350/FoV/User Movement/FengXuanqi_Pulling_trolley.txt\n",
      "/scratch/aa10350/FoV/User Movement/Guozhaonian_News_interviewing.txt\n",
      "/scratch/aa10350/FoV/User Movement/liuxuya_cleaning_whiteboard.txt\n",
      "/scratch/aa10350/FoV/User Movement/liuxuya_News_interviewing.txt\n",
      "/scratch/aa10350/FoV/User Movement/huangrenyi_chatting.txt\n",
      "/scratch/aa10350/FoV/User Movement/WangYan_Pulling_trolley.txt\n",
      "/scratch/aa10350/FoV/User Movement/TuYuzhao_sweep.txt\n",
      "/scratch/aa10350/FoV/User Movement/liuxuya_chatting.txt\n",
      "/scratch/aa10350/FoV/User Movement/Sunqiran_Pulling_trolley.txt\n",
      "/scratch/aa10350/FoV/User Movement/HKY_presenting.txt\n",
      "/scratch/aa10350/FoV/User Movement/sulehan_presenting.txt\n",
      "/scratch/aa10350/FoV/User Movement/Sunqiran_sweep.txt\n",
      "/scratch/aa10350/FoV/User Movement/LHJ_Pulling_trolley.txt\n",
      "/scratch/aa10350/FoV/User Movement/LiaoJunjian_cleaning_whiteborad.txt\n",
      "/scratch/aa10350/FoV/User Movement/sulehan_cleaning_whiteboard.txt\n",
      "/scratch/aa10350/FoV/User Movement/yuchen_sweep.txt\n",
      "/scratch/aa10350/FoV/User Movement/FengXuanqi_sweep.txt\n",
      "/scratch/aa10350/FoV/User Movement/WangYan_sweep.txt\n",
      "/scratch/aa10350/FoV/User Movement/TuYuzhao_chatting.txt\n",
      "/scratch/aa10350/FoV/User Movement/sulehan_chatting.txt\n",
      "/scratch/aa10350/FoV/User Movement/LHJ_cleaning_whiteboard.txt\n",
      "/scratch/aa10350/FoV/User Movement/huangrenyi_sweep.txt\n",
      "/scratch/aa10350/FoV/User Movement/RenHongyu_news_interviewing.txt\n",
      "/scratch/aa10350/FoV/User Movement/yuchen_presenting.txt\n",
      "/scratch/aa10350/FoV/User Movement/LHJ_chatting.txt\n",
      "/scratch/aa10350/FoV/User Movement/HKY_chatting.txt\n",
      "/scratch/aa10350/FoV/User Movement/WangYan_chatting.txt\n",
      "/scratch/aa10350/FoV/User Movement/sulehan_News_interviewing.txt\n",
      "/scratch/aa10350/FoV/User Movement/RenZhichen_cleaning_whiteboard.txt\n",
      "/scratch/aa10350/FoV/User Movement/LiaoJunjian_playing_guitar.txt\n",
      "/scratch/aa10350/FoV/User Movement/RenHongyu_playing_guitar.txt\n",
      "/scratch/aa10350/FoV/User Movement/huangrenyi_Pulling_trolley.txt\n",
      "/scratch/aa10350/FoV/User Movement/Guozhaonian_cleaning_whiteboard.txt\n",
      "/scratch/aa10350/FoV/User Movement/Sunqiran_cleaning_whiteboard.txt\n",
      "/scratch/aa10350/FoV/User Movement/sulehan_Pulling_trolley.txt\n",
      "/scratch/aa10350/FoV/User Movement/Guozhaonian_chatting.txt\n",
      "/scratch/aa10350/FoV/User Movement/RenZhichen_News_interviewing.txt\n",
      "/scratch/aa10350/FoV/User Movement/LiaoJunjian_chatting.txt\n",
      "/scratch/aa10350/FoV/User Movement/liuxuya_Pulling_trolley.txt\n",
      "/scratch/aa10350/FoV/User Movement/RenZhichen_chatting.txt\n",
      "/scratch/aa10350/FoV/User Movement/yuchen_Pulling_trolley.txt\n",
      "/scratch/aa10350/FoV/User Movement/yuchen_cleaning_whiteboard.txt\n",
      "/scratch/aa10350/FoV/User Movement/WangYan_presenting.txt\n",
      "/scratch/aa10350/FoV/User Movement/LiaoJunjian_Pulling_trolley.txt\n",
      "/scratch/aa10350/FoV/User Movement/Sunqiran_presenting.txt\n",
      "/scratch/aa10350/FoV/User Movement/LiaoJunjian_sweep.txt\n",
      "/scratch/aa10350/FoV/User Movement/huangrenyi_News_interviewing.txt\n",
      "/scratch/aa10350/FoV/User Movement/liuxuya_sweep.txt\n",
      "/scratch/aa10350/FoV/User Movement/RenHongyu_Pulling_trolley.txt\n",
      "/scratch/aa10350/FoV/User Movement/huangrenyi_cleaning_whiteboard.txt\n",
      "/scratch/aa10350/FoV/User Movement/RenZhichen_presenting.txt\n",
      "/scratch/aa10350/FoV/User Movement/liuxuya_presenting.txt\n",
      "/scratch/aa10350/FoV/User Movement/huangrenyi_presenting.txt\n",
      "/scratch/aa10350/FoV/User Movement/LiaoJunjian_news_interviewing.txt\n",
      "/scratch/aa10350/FoV/User Movement/RenHongyu_chatting.txt\n",
      "/scratch/aa10350/FoV/User Movement/Sunqiran_News_interviewing.txt\n",
      "/scratch/aa10350/FoV/User Movement/HKY_cleaning_whiteboard.txt\n",
      "/scratch/aa10350/FoV/User Movement/WangYan_cleaning_whiteboard.txt\n",
      "/scratch/aa10350/FoV/User Movement/FengXuanqi_chatting.txt\n",
      "/scratch/aa10350/FoV/User Movement/RenZhichen_sweep.txt\n",
      "/scratch/aa10350/FoV/User Movement/yuchen_News_interviewing.txt\n",
      "/scratch/aa10350/FoV/User Movement/RenZhichen_Pulling_trolley.txt\n",
      "/scratch/aa10350/FoV/User Movement/Guozhaonian_presenting.txt\n",
      "/scratch/aa10350/FoV/User Movement/HKY_Pulling_trolley.txt\n",
      "/scratch/aa10350/FoV/User Movement/Renhongyu_sweep.txt\n",
      "/scratch/aa10350/FoV/User Movement/WangYan_News_interviewing.txt\n",
      "/scratch/aa10350/FoV/User Movement/Guozhaonian_sweep.txt\n",
      "/scratch/aa10350/FoV/User Movement/Sunqiran_chatting.txt\n",
      "/scratch/aa10350/FoV/User Movement/HKY_sweep.txt\n"
     ]
    }
   ],
   "source": [
    "x_train,y_train = createSequence(train_files)"
   ]
  },
  {
   "cell_type": "code",
   "execution_count": 11,
   "metadata": {},
   "outputs": [
    {
     "name": "stdout",
     "output_type": "stream",
     "text": [
      "/scratch/aa10350/FoV/User Movement/fupingyu_Pulling_trolley.txt\n",
      "/scratch/aa10350/FoV/User Movement/fupingyu_presenting.txt\n",
      "/scratch/aa10350/FoV/User Movement/fupingyu_News_interviewing.txt\n",
      "/scratch/aa10350/FoV/User Movement/fupingyu_cleaning_whiteboard.txt\n",
      "/scratch/aa10350/FoV/User Movement/fupingyu_chatting.txt\n",
      "/scratch/aa10350/FoV/User Movement/fupingyu_sweep.txt\n",
      "/scratch/aa10350/FoV/User Movement/GuoYushan_Pulling_trolley.txt\n",
      "/scratch/aa10350/FoV/User Movement/GuoYushan_cleaning_whiteboard.txt\n",
      "/scratch/aa10350/FoV/User Movement/GuoYushan_chatting.txt\n",
      "/scratch/aa10350/FoV/User Movement/GuoYushan_presenting.txt\n",
      "/scratch/aa10350/FoV/User Movement/GuoYushan_News_interviewing.txt\n",
      "/scratch/aa10350/FoV/User Movement/GuoYushan_sweep.txt\n"
     ]
    }
   ],
   "source": [
    "x_val,y_val = createSequence(val_files)"
   ]
  },
  {
   "cell_type": "code",
   "execution_count": 12,
   "metadata": {},
   "outputs": [
    {
     "name": "stdout",
     "output_type": "stream",
     "text": [
      "/scratch/aa10350/FoV/User Movement/ChenYongting_chatting.txt\n",
      "/scratch/aa10350/FoV/User Movement/ChenYongting_Pulling_trolley.txt\n",
      "/scratch/aa10350/FoV/User Movement/ChenYongting_sweep.txt\n",
      "/scratch/aa10350/FoV/User Movement/ChenYongting_presenting.txt\n",
      "/scratch/aa10350/FoV/User Movement/ChenYongting_News_interviewing.txt\n",
      "/scratch/aa10350/FoV/User Movement/ChenYongting_cleaning_whiteboard.txt\n"
     ]
    }
   ],
   "source": [
    "x_test,y_test = createSequence(test_files)"
   ]
  },
  {
   "cell_type": "code",
   "execution_count": 13,
   "metadata": {},
   "outputs": [],
   "source": [
    "np.save('x_train.npy', x_train)\n",
    "np.save('y_train.npy', y_train)\n",
    "np.save('x_val.npy', x_val)\n",
    "np.save('y_val.npy', y_val)\n",
    "np.save('x_test.npy', x_test)\n",
    "np.save('y_test.npy', y_test)"
   ]
  },
  {
   "cell_type": "code",
   "execution_count": null,
   "metadata": {},
   "outputs": [],
   "source": []
  }
 ],
 "metadata": {
  "kernelspec": {
   "display_name": "my_env",
   "language": "python",
   "name": "my_env"
  },
  "language_info": {
   "codemirror_mode": {
    "name": "ipython",
    "version": 3
   },
   "file_extension": ".py",
   "mimetype": "text/x-python",
   "name": "python",
   "nbconvert_exporter": "python",
   "pygments_lexer": "ipython3",
   "version": "3.11.5"
  }
 },
 "nbformat": 4,
 "nbformat_minor": 4
}
